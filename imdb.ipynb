{
  "nbformat": 4,
  "nbformat_minor": 0,
  "metadata": {
    "colab": {
      "provenance": [],
      "authorship_tag": "ABX9TyN3Hsnqs+MEvmmSYbD4QrU2",
      "include_colab_link": true
    },
    "kernelspec": {
      "name": "python3",
      "display_name": "Python 3"
    },
    "language_info": {
      "name": "python"
    }
  },
  "cells": [
    {
      "cell_type": "markdown",
      "metadata": {
        "id": "view-in-github",
        "colab_type": "text"
      },
      "source": [
        "<a href=\"https://colab.research.google.com/github/tliu16/64061/blob/main/imdb.ipynb\" target=\"_parent\"><img src=\"https://colab.research.google.com/assets/colab-badge.svg\" alt=\"Open In Colab\"/></a>"
      ]
    },
    {
      "cell_type": "markdown",
      "source": [
        "**Load the packages**"
      ],
      "metadata": {
        "id": "1W4detynL15_"
      }
    },
    {
      "cell_type": "code",
      "source": [
        "import numpy as np\n",
        "\n",
        "import matplotlib.pyplot as plt"
      ],
      "metadata": {
        "id": "9FhfL4oNLrHD"
      },
      "execution_count": null,
      "outputs": []
    },
    {
      "cell_type": "markdown",
      "source": [
        "Load the dataset and set the max words per review to 10000"
      ],
      "metadata": {
        "id": "QQYQAvLNB_XT"
      }
    },
    {
      "cell_type": "code",
      "execution_count": 1,
      "metadata": {
        "colab": {
          "base_uri": "https://localhost:8080/"
        },
        "id": "oKysuIFEXgFe",
        "outputId": "2639942e-aad9-48ea-c02d-207df087841d"
      },
      "outputs": [
        {
          "output_type": "stream",
          "name": "stdout",
          "text": [
            "Downloading data from https://storage.googleapis.com/tensorflow/tf-keras-datasets/imdb.npz\n",
            "17464789/17464789 [==============================] - 0s 0us/step\n"
          ]
        }
      ],
      "source": [
        "from keras.datasets import imdb\n",
        "(train_data, train_labels), (test_data, test_labels) = imdb.load_data(\n",
        "    num_words=10000)"
      ]
    },
    {
      "cell_type": "code",
      "source": [
        "max([max(sequence) for sequence in train_data])"
      ],
      "metadata": {
        "colab": {
          "base_uri": "https://localhost:8080/"
        },
        "id": "VcwF9aeY9wIs",
        "outputId": "ce9f973b-07d4-4c42-a95e-a5b11707bde3"
      },
      "execution_count": 4,
      "outputs": [
        {
          "output_type": "execute_result",
          "data": {
            "text/plain": [
              "9999"
            ]
          },
          "metadata": {},
          "execution_count": 4
        }
      ]
    },
    {
      "cell_type": "markdown",
      "source": [
        "**Build the neural network**\n"
      ],
      "metadata": {
        "id": "mG03VJyAC44t"
      }
    },
    {
      "cell_type": "code",
      "source": [
        "from keras import models\n",
        "from keras import layers\n",
        "\n",
        "model = models.Sequential()\n",
        "model.add(layers.Dense(16, activation = 'relu', input_shape=(10000,)))\n",
        "model.add(layers.Dense(16, activation = 'relu'))\n",
        "model.add(layers.Dense(1, activation = 'sigmoid'))"
      ],
      "metadata": {
        "id": "y-xt_kN092FZ"
      },
      "execution_count": 5,
      "outputs": []
    },
    {
      "cell_type": "code",
      "source": [
        "model.compile(optimizer = 'rmsprop',\n",
        "              loss='binary_crossentropy',\n",
        "              metrics= ['accuracy'])"
      ],
      "metadata": {
        "id": "wN5APFTQ-XyH"
      },
      "execution_count": 6,
      "outputs": []
    },
    {
      "cell_type": "markdown",
      "source": [
        "**Encoding the integer sequence as binary data**"
      ],
      "metadata": {
        "id": "tGFSmqg4DOhr"
      }
    },
    {
      "cell_type": "code",
      "source": [
        "def vectorize_sequences(sequences, dimension=10000):\n",
        "    results = np.zeros((len(sequences), dimension))\n",
        "    for i, sequence in enumerate(sequences):\n",
        "        for j in sequence:\n",
        "            results[i, j] = 1\n",
        "    return results\n"
      ],
      "metadata": {
        "id": "X7uwMtQYDTsL"
      },
      "execution_count": 10,
      "outputs": []
    },
    {
      "cell_type": "code",
      "source": [
        "x_train = vectorize_sequences(train_data)\n",
        "x_test = vectorize_sequences(test_data)\n",
        "y_train = np.asarray(train_labels).astype(\"float32\")\n",
        "y_test = np.asarray(test_labels).astype(\"float32\")"
      ],
      "metadata": {
        "id": "5Za5KqcNDcay"
      },
      "execution_count": 11,
      "outputs": []
    },
    {
      "cell_type": "markdown",
      "source": [
        "**Data split to training and testing**"
      ],
      "metadata": {
        "id": "c8KA9L2KCs1T"
      }
    },
    {
      "cell_type": "code",
      "source": [
        "x_val = x_train[:10000]\n",
        "partial_x_train = x_train[10000:]\n",
        "\n",
        "y_val = y_train[:10000]\n",
        "partial_y_train= y_train[10000:]"
      ],
      "metadata": {
        "id": "206ieNr0-ira"
      },
      "execution_count": 12,
      "outputs": []
    },
    {
      "cell_type": "markdown",
      "source": [
        "**Build and run the model**"
      ],
      "metadata": {
        "id": "FPN2LKX9D2qy"
      }
    },
    {
      "cell_type": "code",
      "source": [
        "model.compile(optimizer='rmsprop',\n",
        "              loss='binary_crossentropy',\n",
        "              metrics=['acc'])\n",
        "model.summary()"
      ],
      "metadata": {
        "colab": {
          "base_uri": "https://localhost:8080/"
        },
        "id": "kzyXsJxNEFiG",
        "outputId": "ca17858a-fbdf-42df-c2d9-77eaeab42bb0"
      },
      "execution_count": 15,
      "outputs": [
        {
          "output_type": "stream",
          "name": "stdout",
          "text": [
            "Model: \"sequential_2\"\n",
            "_________________________________________________________________\n",
            " Layer (type)                Output Shape              Param #   \n",
            "=================================================================\n",
            " dense_6 (Dense)             (None, 16)                160016    \n",
            "                                                                 \n",
            " dense_7 (Dense)             (None, 16)                272       \n",
            "                                                                 \n",
            " dense_8 (Dense)             (None, 1)                 17        \n",
            "                                                                 \n",
            "=================================================================\n",
            "Total params: 160,305\n",
            "Trainable params: 160,305\n",
            "Non-trainable params: 0\n",
            "_________________________________________________________________\n"
          ]
        }
      ]
    },
    {
      "cell_type": "markdown",
      "source": [
        "**Train the model**"
      ],
      "metadata": {
        "id": "GKOUemU8EMnd"
      }
    },
    {
      "cell_type": "code",
      "source": [
        "imdb_m = model.fit(partial_x_train,\n",
        "                    partial_y_train,\n",
        "                    epochs=20,\n",
        "                    batch_size=512,\n",
        "                    validation_data=(x_val, y_val))"
      ],
      "metadata": {
        "colab": {
          "base_uri": "https://localhost:8080/"
        },
        "id": "FoOU-vds_Iyx",
        "outputId": "02df572b-3c55-4e82-9f4f-a8f078e0a91d"
      },
      "execution_count": 18,
      "outputs": [
        {
          "output_type": "stream",
          "name": "stdout",
          "text": [
            "Epoch 1/20\n",
            "30/30 [==============================] - 4s 98ms/step - loss: 0.1604 - acc: 0.9422 - val_loss: 0.1789 - val_acc: 0.9316\n",
            "Epoch 2/20\n",
            "30/30 [==============================] - 2s 55ms/step - loss: 0.1303 - acc: 0.9573 - val_loss: 0.1651 - val_acc: 0.9400\n",
            "Epoch 3/20\n",
            "30/30 [==============================] - 1s 41ms/step - loss: 0.1083 - acc: 0.9656 - val_loss: 0.1820 - val_acc: 0.9310\n",
            "Epoch 4/20\n",
            "30/30 [==============================] - 1s 44ms/step - loss: 0.0928 - acc: 0.9703 - val_loss: 0.2148 - val_acc: 0.9203\n",
            "Epoch 5/20\n",
            "30/30 [==============================] - 2s 56ms/step - loss: 0.0811 - acc: 0.9757 - val_loss: 0.2171 - val_acc: 0.9185\n",
            "Epoch 6/20\n",
            "30/30 [==============================] - 2s 53ms/step - loss: 0.0666 - acc: 0.9834 - val_loss: 0.2219 - val_acc: 0.9195\n",
            "Epoch 7/20\n",
            "30/30 [==============================] - 1s 48ms/step - loss: 0.0592 - acc: 0.9849 - val_loss: 0.2416 - val_acc: 0.9142\n",
            "Epoch 8/20\n",
            "30/30 [==============================] - 3s 86ms/step - loss: 0.0446 - acc: 0.9911 - val_loss: 0.2575 - val_acc: 0.9107\n",
            "Epoch 9/20\n",
            "30/30 [==============================] - 2s 56ms/step - loss: 0.0402 - acc: 0.9915 - val_loss: 0.2816 - val_acc: 0.9085\n",
            "Epoch 10/20\n",
            "30/30 [==============================] - 1s 49ms/step - loss: 0.0355 - acc: 0.9925 - val_loss: 0.2969 - val_acc: 0.9058\n",
            "Epoch 11/20\n",
            "30/30 [==============================] - 1s 37ms/step - loss: 0.0260 - acc: 0.9962 - val_loss: 0.4098 - val_acc: 0.8872\n",
            "Epoch 12/20\n",
            "30/30 [==============================] - 1s 36ms/step - loss: 0.0256 - acc: 0.9952 - val_loss: 0.3404 - val_acc: 0.9027\n",
            "Epoch 13/20\n",
            "30/30 [==============================] - 2s 61ms/step - loss: 0.0171 - acc: 0.9986 - val_loss: 0.4044 - val_acc: 0.8861\n",
            "Epoch 14/20\n",
            "30/30 [==============================] - 1s 40ms/step - loss: 0.0147 - acc: 0.9988 - val_loss: 0.4441 - val_acc: 0.8900\n",
            "Epoch 15/20\n",
            "30/30 [==============================] - 2s 56ms/step - loss: 0.0122 - acc: 0.9988 - val_loss: 0.3972 - val_acc: 0.8989\n",
            "Epoch 16/20\n",
            "30/30 [==============================] - 2s 70ms/step - loss: 0.0120 - acc: 0.9985 - val_loss: 0.4140 - val_acc: 0.8976\n",
            "Epoch 17/20\n",
            "30/30 [==============================] - 2s 63ms/step - loss: 0.0134 - acc: 0.9967 - val_loss: 0.4415 - val_acc: 0.8960\n",
            "Epoch 18/20\n",
            "30/30 [==============================] - 1s 45ms/step - loss: 0.0048 - acc: 0.9999 - val_loss: 0.4523 - val_acc: 0.8955\n",
            "Epoch 19/20\n",
            "30/30 [==============================] - 1s 38ms/step - loss: 0.0074 - acc: 0.9989 - val_loss: 0.4674 - val_acc: 0.8959\n",
            "Epoch 20/20\n",
            "30/30 [==============================] - 1s 38ms/step - loss: 0.0034 - acc: 0.9999 - val_loss: 0.4878 - val_acc: 0.8935\n"
          ]
        }
      ]
    },
    {
      "cell_type": "code",
      "source": [
        "imdb_index = imdb_m.history"
      ],
      "metadata": {
        "id": "KYZh3pdOHjP-"
      },
      "execution_count": 19,
      "outputs": []
    },
    {
      "cell_type": "markdown",
      "source": [
        "**Plot train and validation_data**"
      ],
      "metadata": {
        "id": "nCX2fjKtHw5r"
      }
    },
    {
      "cell_type": "code",
      "source": [
        "loss = imdb_index[\"loss\"]\n",
        "val_loss = imdb_index[\"val_loss\"]\n",
        "epochs = range(1, len(loss) + 1)\n",
        "plt.plot(epochs, loss, \"black\", label=\"train loss\")\n",
        "plt.plot(epochs, val_loss, color=\"blue\", label=\"validation loss\")\n",
        "plt.title(\"Train and validation loss\")\n",
        "plt.xlabel(\"Epochs\")\n",
        "plt.ylabel(\"Loss\")\n",
        "plt.legend()\n",
        "plt.show()"
      ],
      "metadata": {
        "colab": {
          "base_uri": "https://localhost:8080/",
          "height": 295
        },
        "id": "-GMVrCk9Hr1w",
        "outputId": "41e0fa0c-a6be-4df3-932a-2e7bf9fffb80"
      },
      "execution_count": 22,
      "outputs": [
        {
          "output_type": "display_data",
          "data": {
            "text/plain": [
              "<Figure size 432x288 with 1 Axes>"
            ],
            "image/png": "[encoded data removed]"
          },
          "metadata": {
            "needs_background": "light"
          }
        }
      ]
    },
    {
      "cell_type": "markdown",
      "source": [
        "Best epoch is 2"
      ],
      "metadata": {
        "id": "rtnBRTCpIupc"
      }
    },
    {
      "cell_type": "markdown",
      "source": [
        "**Retrain the model m1 with 2 epochs**"
      ],
      "metadata": {
        "id": "inyTv6lUEl4z"
      }
    },
    {
      "cell_type": "code",
      "source": [
        "model = models.Sequential()\n",
        "model.add(layers.Dense(16, activation = 'relu', input_shape=(10000,)))\n",
        "model.add(layers.Dense(16,activation='relu'))\n",
        "model.add(layers.Dense(1,activation='sigmoid'))\n",
        "\n",
        "model.compile(optimizer='rmsprop',\n",
        "              loss='binary_crossentropy',\n",
        "              metrics=['accuracy'])\n",
        "\n",
        "imdb_m1= model.fit(x_train, y_train, epochs=2, batch_size=512)\n"
      ],
      "metadata": {
        "colab": {
          "base_uri": "https://localhost:8080/"
        },
        "id": "UpSFOJFu_tvD",
        "outputId": "c2d3657a-b60b-4fa1-ae9c-78a5f72ef229"
      },
      "execution_count": 27,
      "outputs": [
        {
          "output_type": "stream",
          "name": "stdout",
          "text": [
            "Epoch 1/2\n",
            "49/49 [==============================] - 3s 38ms/step - loss: 0.4430 - accuracy: 0.8158\n",
            "Epoch 2/2\n",
            "49/49 [==============================] - 1s 30ms/step - loss: 0.2588 - accuracy: 0.9069\n"
          ]
        }
      ]
    },
    {
      "cell_type": "markdown",
      "source": [
        "**Model m1 test set accuracy**\n",
        "\n"
      ],
      "metadata": {
        "id": "lEPk3-l2FNUE"
      }
    },
    {
      "cell_type": "code",
      "source": [
        "results_m1 = model.evaluate(x_test, y_test)\n"
      ],
      "metadata": {
        "id": "Ri_H9K9QEtTd"
      },
      "execution_count": null,
      "outputs": []
    }
  ]
}